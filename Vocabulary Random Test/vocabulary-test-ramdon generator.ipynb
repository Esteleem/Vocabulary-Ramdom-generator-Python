{
 "cells": [
  {
   "cell_type": "code",
   "execution_count": 55,
   "metadata": {},
   "outputs": [],
   "source": [
    "import random"
   ]
  },
  {
   "cell_type": "code",
   "execution_count": 57,
   "metadata": {},
   "outputs": [],
   "source": [
    "vocabulary = {'according to': 'as stated by', 'get hold of': 'to find someone or obtain something', 'get across': 'communitcate your message clearly',\n",
    "              'come across':'meet by chance','look up': 'search for information', 'make up': 'invent', 'carry on':'continue','hold on':'wait','watch out':'be careful', 'work out':'calculate','live up to your name':'to achieve what is expected',\n",
    "             'maiden name':'family name before getting married','given name':'the name you are given when you are born that is not you family name','make a name for yourself':'to become respected by a lot of people','household name': 'a famous person',\n",
    "             'to clear your name': 'to recover a good reputation', 'in name only':'only in title', 'to put your name forward':'to volunteer', 'address by name':'to call someone using their name','going in for':'choose','outlandish':'ridiculous',\n",
    "            'reach the top of the tree':'reach a top position at work','career-wise':'related to your career','cut and dried':'a matter settled without debate','call-backs':'when a company asks you to go to a job interview after reading your CV','for the likes of':'for people or things such as','perceptive':'notices things quickly and understands feelings',\n",
    "             'apathetic':'not willing to do anythin', 'prejudiced': 'to have an unreasonable dislike for a group of things or people', 'conscientious':'someone who works very hard to do something', 'obstinate': 'relunctant to change your ideas, opinion or behavior', 'neurotic':'unreasonably anxious or afraid','open-minded': \"willing to consider or accept others' ideas or opinions\",\n",
    "             'solitary': 'likes to spend time alone', 'inquisitive': 'curious', 'insensitive': \"disregards other peoples' feelings\", 'rebellious': 'does not obey the rules, disregards authority', 'mature':'behaves in a sensitive, adult way', 'yes-man':'someone who always agrees and obeys their boss or leader', 'a whizzkid': 'a young person who is very skilled or talented at something', 'busybody': 'somebody who is interested in the life of other people','chatterbox': 'esp. of a child. Someone who talks too much','dark horse': 'someone who does not talk about his or herself, but has surprising qualities of abilities', 'old hand': 'someone who has a lot of experience', 'to be set in your ways': 'unlikely to change your habits or opinions', 'black sheep': 'someone who is regarded by the members of his or her famility as unfit or embarrasing', 'life and soul of the party':'someone who enjoys social ocassions and is fun to be with', 'wet blanket': 'someone who spoils the fun'}\n",
    "        "
   ]
  },
  {
   "cell_type": "code",
   "execution_count": 58,
   "metadata": {},
   "outputs": [],
   "source": [
    "#print(vocabulary)"
   ]
  },
  {
   "cell_type": "code",
   "execution_count": 59,
   "metadata": {},
   "outputs": [
    {
     "data": {
      "text/plain": [
       "'apathetic'"
      ]
     },
     "execution_count": 59,
     "metadata": {},
     "output_type": "execute_result"
    }
   ],
   "source": [
    "random.choice(list(vocabulary.keys()))"
   ]
  },
  {
   "cell_type": "code",
   "execution_count": 60,
   "metadata": {},
   "outputs": [],
   "source": [
    "#vocabulary[]"
   ]
  },
  {
   "cell_type": "code",
   "execution_count": 61,
   "metadata": {},
   "outputs": [
    {
     "data": {
      "text/plain": [
       "'someone who is regarded by the members of his or her famility as unfit or embarrasing'"
      ]
     },
     "execution_count": 61,
     "metadata": {},
     "output_type": "execute_result"
    }
   ],
   "source": [
    "random.choice(list(vocabulary.values()))"
   ]
  },
  {
   "cell_type": "code",
   "execution_count": null,
   "metadata": {},
   "outputs": [],
   "source": []
  }
 ],
 "metadata": {
  "kernelspec": {
   "display_name": "Python 3",
   "language": "python",
   "name": "python3"
  },
  "language_info": {
   "codemirror_mode": {
    "name": "ipython",
    "version": 3
   },
   "file_extension": ".py",
   "mimetype": "text/x-python",
   "name": "python",
   "nbconvert_exporter": "python",
   "pygments_lexer": "ipython3",
   "version": "3.7.6"
  }
 },
 "nbformat": 4,
 "nbformat_minor": 4
}
